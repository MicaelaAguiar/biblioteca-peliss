{
  "nbformat": 4,
  "nbformat_minor": 0,
  "metadata": {
    "colab": {
      "provenance": [],
      "authorship_tag": "ABX9TyPQ1KvHNXp/5Xkahs4iPfxB",
      "include_colab_link": true
    },
    "kernelspec": {
      "name": "python3",
      "display_name": "Python 3"
    },
    "language_info": {
      "name": "python"
    }
  },
  "cells": [
    {
      "cell_type": "markdown",
      "metadata": {
        "id": "view-in-github",
        "colab_type": "text"
      },
      "source": [
        "<a href=\"https://colab.research.google.com/github/MicaelaAguiar/biblioteca-peliss/blob/main/Micaela_Aguiar.ipynb\" target=\"_parent\"><img src=\"https://colab.research.google.com/assets/colab-badge.svg\" alt=\"Open In Colab\"/></a>"
      ]
    },
    {
      "cell_type": "code",
      "source": [
        "import os\n",
        "\n",
        "class pelicula:\n",
        "  def __init__(self, nombre, año, genero):\n",
        "    self.nombre = nombre\n",
        "    self.año = año\n",
        "    self.genero = genero\n",
        "\n",
        "  def __str__(self):\n",
        "    return f\"{self.nombre} ({self.año}) - {self.genero}\"\n",
        "\n",
        "class catalogo_peliculas:\n",
        "  def __init__(self, nombre_catalogo):\n",
        "    self.nombre_catalogo = nombre_catalogo\n",
        "    self.ruta_archivo = f\"{self.nombre_catalogo}.txt\"\n",
        "    self.pelicula = []  #esto retiene mi objeto peicula.\n",
        "\n",
        "  def agregar_pelicula(self, nombre, año, genero):\n",
        "    nueva_pelicula = pelicula(nombre, año, genero)\n",
        "    with open(self.ruta_archivo, \"a\") as archivo:\n",
        "      archivo.write(f\"{pelicula.nombre},{pelicula.año},{pelicula.genero}\\n\")\n",
        "      self.pelicula.append(nueva_pelicula)\n",
        "\n",
        "  def listar_peliculas(self):\n",
        "    with open(self.ruta_archivo, \"r\") as archivo:\n",
        "      lineas = archivo.readlines()\n",
        "      for linea in lineas:\n",
        "        datos = linea.strip().split(\",\")\n",
        "\n",
        "  def eliminar_catalogo(self):\n",
        "    if os.path.exists(self.ruta_archivo):\n",
        "      os.remove(self.ruta_archivo)\n",
        "      print(f\"El catálogo de películas {self.ruta_archivo} ha sido eliminado.\")\n",
        "    else:\n",
        "      print(f\"El catálogo de películas {self.nombre_catalogo} no existe.\")\n",
        "      pass\n",
        "\n",
        "#defino el menu\n",
        "def menu():\n",
        "  print(\"\\nElige una opcion:\")\n",
        "  print(\"1. Agregar Película\")\n",
        "  print(\"2. Listar Películas\")\n",
        "  print(\"3. Eliminar catálogo películas\")\n",
        "  print(\"4. Salir\")\n",
        "\n",
        "\n",
        "def biblioteca():\n",
        "  nombre_catalogo = input(\"Ingresa el nombre del catálogo: \")\n",
        "  catalogo = catalogo_peliculas(nombre_catalogo)\n",
        "\n",
        "  if not os.path.exists(nombre_catalogo):\n",
        "    print(f\"Se ha creado el catalogo: {catalogo.nombre_catalogo}.\")\n",
        "    with open(catalogo.nombre_catalogo, \"w\"):\n",
        "      pass\n",
        "\n",
        "  while True:\n",
        "    menu()\n",
        "    opcion = input(\"Ingresa el número de la opción deseada: \")\n",
        "    if opcion == \"1\":\n",
        "\n",
        "      nombre = input(\"Ingresa el nombre de la película: \")\n",
        "      try:\n",
        "        año = int(input(\"Ingresa el año: \"))\n",
        "      except ValueError:\n",
        "        print(\"Ingresa un año válido.\")\n",
        "        continue\n",
        "      genero = input(\"Ingresa el género: \")\n",
        "\n",
        "      catalogo.agregar_pelicula(nombre, año, genero)\n",
        "\n",
        "      print(pelicula(nombre, año, genero))\n",
        "      print(\"La película ha sido agregada al catálogo.\")\n",
        "\n",
        "    elif opcion == \"2\":\n",
        "        print(f\"Películas en {nombre_catalogo}: \")\n",
        "        catalogo.listar_peliculas()\n",
        "        for peli in catalogo_peliculas:\n",
        "          print(peli)\n",
        "        else:\n",
        "          print(\"No hay películas en el catálogo.\")\n",
        "\n",
        "    elif opcion == \"3\":\n",
        "      catalogo.eliminar_catalogo()\n",
        "\n",
        "    elif opcion == \"4\":\n",
        "      print(\"Hasta la proxima pelicula!\")\n",
        "      break\n",
        "\n",
        "    else:\n",
        "      print(\"Selecciona una opción válida.\")\n",
        "\n",
        "biblioteca()"
      ],
      "metadata": {
        "colab": {
          "base_uri": "https://localhost:8080/",
          "height": 391
        },
        "id": "hFsZ5Qyu02UL",
        "outputId": "39eddc3d-7d57-4603-9c9e-5d1c5ccdec68"
      },
      "execution_count": 47,
      "outputs": [
        {
          "name": "stdout",
          "output_type": "stream",
          "text": [
            "Ingresa el nombre del catálogo: cvxzzv\n",
            "Se ha creado el catalogo: cvxzzv.\n",
            "\n",
            "Elige una opcion:\n",
            "1. Agregar Película\n",
            "2. Listar Películas\n",
            "3. Eliminar catálogo películas\n",
            "4. Salir\n",
            "Ingresa el número de la opción deseada: 2\n"
          ]
        },
        {
          "output_type": "error",
          "ename": "TypeError",
          "evalue": "stat: path should be string, bytes, os.PathLike or integer, not list",
          "traceback": [
            "\u001b[0;31m---------------------------------------------------------------------------\u001b[0m",
            "\u001b[0;31mTypeError\u001b[0m                                 Traceback (most recent call last)",
            "\u001b[0;32m<ipython-input-47-3f4526b64f35>\u001b[0m in \u001b[0;36m<cell line: 0>\u001b[0;34m()\u001b[0m\n\u001b[1;32m     91\u001b[0m       \u001b[0mprint\u001b[0m\u001b[0;34m(\u001b[0m\u001b[0;34m\"Selecciona una opción válida.\"\u001b[0m\u001b[0;34m)\u001b[0m\u001b[0;34m\u001b[0m\u001b[0;34m\u001b[0m\u001b[0m\n\u001b[1;32m     92\u001b[0m \u001b[0;34m\u001b[0m\u001b[0m\n\u001b[0;32m---> 93\u001b[0;31m \u001b[0mbiblioteca\u001b[0m\u001b[0;34m(\u001b[0m\u001b[0;34m)\u001b[0m\u001b[0;34m\u001b[0m\u001b[0;34m\u001b[0m\u001b[0m\n\u001b[0m",
            "\u001b[0;32m<ipython-input-47-3f4526b64f35>\u001b[0m in \u001b[0;36mbiblioteca\u001b[0;34m()\u001b[0m\n\u001b[1;32m     73\u001b[0m \u001b[0;34m\u001b[0m\u001b[0m\n\u001b[1;32m     74\u001b[0m     \u001b[0;32melif\u001b[0m \u001b[0mopcion\u001b[0m \u001b[0;34m==\u001b[0m \u001b[0;34m\"2\"\u001b[0m\u001b[0;34m:\u001b[0m\u001b[0;34m\u001b[0m\u001b[0;34m\u001b[0m\u001b[0m\n\u001b[0;32m---> 75\u001b[0;31m       \u001b[0;32mif\u001b[0m \u001b[0mos\u001b[0m\u001b[0;34m.\u001b[0m\u001b[0mpath\u001b[0m\u001b[0;34m.\u001b[0m\u001b[0mexists\u001b[0m\u001b[0;34m(\u001b[0m\u001b[0mcatalogo\u001b[0m\u001b[0;34m.\u001b[0m\u001b[0mpelicula\u001b[0m\u001b[0;34m)\u001b[0m\u001b[0;34m:\u001b[0m\u001b[0;34m\u001b[0m\u001b[0;34m\u001b[0m\u001b[0m\n\u001b[0m\u001b[1;32m     76\u001b[0m         \u001b[0mprint\u001b[0m\u001b[0;34m(\u001b[0m\u001b[0;34mf\"Películas en {nombre_catalogo}: \"\u001b[0m\u001b[0;34m)\u001b[0m\u001b[0;34m\u001b[0m\u001b[0;34m\u001b[0m\u001b[0m\n\u001b[1;32m     77\u001b[0m         \u001b[0mcatalogo\u001b[0m\u001b[0;34m.\u001b[0m\u001b[0mlistar_peliculas\u001b[0m\u001b[0;34m(\u001b[0m\u001b[0;34m)\u001b[0m\u001b[0;34m\u001b[0m\u001b[0;34m\u001b[0m\u001b[0m\n",
            "\u001b[0;32m/usr/lib/python3.11/genericpath.py\u001b[0m in \u001b[0;36mexists\u001b[0;34m(path)\u001b[0m\n",
            "\u001b[0;31mTypeError\u001b[0m: stat: path should be string, bytes, os.PathLike or integer, not list"
          ]
        }
      ]
    },
    {
      "cell_type": "code",
      "source": [],
      "metadata": {
        "id": "ugUPFuGdHGrY"
      },
      "execution_count": null,
      "outputs": []
    },
    {
      "cell_type": "code",
      "source": [],
      "metadata": {
        "id": "yflOjoF1HGwi"
      },
      "execution_count": null,
      "outputs": []
    }
  ]
}